{
 "cells": [
  {
   "cell_type": "code",
   "execution_count": 3,
   "id": "d1ef3c72-af94-4485-b9f9-6e9ca9ef4e89",
   "metadata": {},
   "outputs": [],
   "source": [
    "import numpy as np\n",
    "import tensorflow as tf\n",
    "import matplotlib.pyplot as plt"
   ]
  },
  {
   "cell_type": "code",
   "execution_count": 4,
   "id": "afd20c80-100d-4a38-ace1-2cd9ba54063c",
   "metadata": {},
   "outputs": [],
   "source": [
    "from tensorflow import keras\n",
    "from tensorflow.keras import Layer\n",
    "from tensorflow.keras.models import Sequential\n",
    "from tensorflow.keras.layers import Rescaling , GlobalAveragePooling2D\n",
    "from tensorflow.keras import layers, optimizers, callbacks \n",
    "from sklearn.utils.class_weight import compute_class_weight \n",
    "from tensorflow.keras.applications import EfficientNetV2B2 \n",
    "from sklearn.metrics import confusion_matrix, classification_report\n",
    "import gradio as gr "
   ]
  },
  {
   "cell_type": "code",
   "execution_count": 5,
   "id": "5acaf79c-d457-4ffe-9d6c-fe06c655bca4",
   "metadata": {},
   "outputs": [],
   "source": [
    "dataset_dir= r\"D:\\AICTE internship\\Garbage Classification Project\\garbage\\TrashType_Image_Dataset\"\n",
    "image_size = (124, 124)\n",
    "batch_size = 32\n",
    "seed = 42"
   ]
  },
  {
   "cell_type": "code",
   "execution_count": 6,
   "id": "cbaf31f1-41ed-401a-bd30-50329b1f3b7a",
   "metadata": {},
   "outputs": [
    {
     "name": "stdout",
     "output_type": "stream",
     "text": [
      "Found 2527 files belonging to 6 classes.\n",
      "Using 2022 files for training.\n"
     ]
    }
   ],
   "source": [
    "train_ds = tf.keras.utils.image_dataset_from_directory(\n",
    "    dataset_dir,\n",
    "    validation_split=0.2,\n",
    "    subset=\"training\",\n",
    "    seed=seed,\n",
    "    shuffle = True,\n",
    "    image_size=image_size,\n",
    "    batch_size=batch_size\n",
    ")"
   ]
  },
  {
   "cell_type": "code",
   "execution_count": 7,
   "id": "e9593308-3eee-4497-90a2-119b6717930b",
   "metadata": {},
   "outputs": [
    {
     "name": "stdout",
     "output_type": "stream",
     "text": [
      "Found 2527 files belonging to 6 classes.\n",
      "Using 505 files for validation.\n"
     ]
    }
   ],
   "source": [
    "val_ds = tf.keras.utils.image_dataset_from_directory(\n",
    "    dataset_dir,\n",
    "    validation_split=0.2,\n",
    "    subset=\"validation\",\n",
    "    seed=seed,\n",
    "    shuffle = True,\n",
    "    image_size=image_size,\n",
    "    batch_size=batch_size\n",
    ")\n",
    "val_class= val_ds.class_names"
   ]
  },
  {
   "cell_type": "code",
   "execution_count": 8,
   "id": "07d94f52-8216-4fd9-8fde-03f08db0b062",
   "metadata": {},
   "outputs": [],
   "source": [
    "val_batches = tf.data.experimental.cardinality(val_ds)  \n",
    "test_ds = val_ds.take(val_batches // 2)  \n",
    "val_dat = val_ds.skip(val_batches // 2)  \n",
    "test_ds_eval = test_ds.cache().prefetch(tf.data.AUTOTUNE)  "
   ]
  },
  {
   "cell_type": "code",
   "execution_count": null,
   "id": "52bfff29-ee96-49b7-ba47-1dcf07db8b45",
   "metadata": {},
   "outputs": [],
   "source": [
    "print(train_ds.class_names)\n",
    "print(val_class)\n",
    "print(len(train_ds.class_names))"
   ]
  }
 ],
 "metadata": {
  "kernelspec": {
   "display_name": "Python 3 (ipykernel)",
   "language": "python",
   "name": "python3"
  },
  "language_info": {
   "codemirror_mode": {
    "name": "ipython",
    "version": 3
   },
   "file_extension": ".py",
   "mimetype": "text/x-python",
   "name": "python",
   "nbconvert_exporter": "python",
   "pygments_lexer": "ipython3",
   "version": "3.11.0"
  }
 },
 "nbformat": 4,
 "nbformat_minor": 5
}
